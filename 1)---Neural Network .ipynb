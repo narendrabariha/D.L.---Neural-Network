{
 "cells": [
  {
   "cell_type": "code",
   "execution_count": 1,
   "id": "a2b069f2",
   "metadata": {},
   "outputs": [],
   "source": [
    "# Data set\n",
    "\n",
    "#A\n",
    "a =[0, 0, 1, 1, 0, 0,\n",
    "    0, 1, 0, 0, 1, 0,\n",
    "    1, 1, 1, 1, 1, 1,\n",
    "    1, 0, 0, 0, 0, 1,\n",
    "    1, 0, 0, 0, 0, 1]\n",
    "\n",
    "#B\n",
    "b =[0, 1, 1, 1, 1, 0,\n",
    "    0, 1, 0, 0, 1, 0,\n",
    "    0, 1, 1, 1, 1, 0,\n",
    "    0, 1, 0, 0, 1, 0,\n",
    "    0, 1, 1, 1, 1, 0]\n",
    "\n",
    "#C\n",
    "c =[0, 1, 1, 1, 1, 0,\n",
    "    0, 1, 0, 0, 0, 0,\n",
    "    0, 1, 0, 0, 0, 0,\n",
    "    0, 1, 0, 0, 0, 0,\n",
    "    0, 1, 1, 1, 1, 0]\n"
   ]
  },
  {
   "cell_type": "code",
   "execution_count": 2,
   "id": "5a0725ff",
   "metadata": {},
   "outputs": [],
   "source": [
    "# Labels\n",
    "y = [[1,0,0],\n",
    "     [0,1,0],\n",
    "     [0,0,1]]"
   ]
  },
  {
   "cell_type": "code",
   "execution_count": 3,
   "id": "49ace42a",
   "metadata": {},
   "outputs": [],
   "source": [
    "import numpy as np\n",
    "import matplotlib.pyplot as plt"
   ]
  },
  {
   "cell_type": "code",
   "execution_count": 4,
   "id": "9e805f57",
   "metadata": {},
   "outputs": [
    {
     "data": {
      "image/png": "[encoded data removed]",
      "text/plain": [
       "<Figure size 640x480 with 1 Axes>"
      ]
     },
     "metadata": {},
     "output_type": "display_data"
    }
   ],
   "source": [
    "#visualize the data\n",
    "plt.imshow(np.array(a).reshape(5,6))\n",
    "plt.show()"
   ]
  },
  {
   "cell_type": "code",
   "execution_count": 5,
   "id": "3980ff87",
   "metadata": {},
   "outputs": [],
   "source": [
    "# Convert data and labels into numpy array\n",
    "x = [np.array(a).reshape(1,30), np.array(b).reshape(1,30), np.array(c).reshape(1,30)]\n",
    "y = np.array(y)"
   ]
  },
  {
   "cell_type": "code",
   "execution_count": 6,
   "id": "74aea329",
   "metadata": {},
   "outputs": [],
   "source": [
    "#input (1,30) \n",
    "\n",
    "#hidden (1,5) \n",
    "\n",
    "#output (3,3)"
   ]
  },
  {
   "cell_type": "code",
   "execution_count": 7,
   "id": "52187b32",
   "metadata": {},
   "outputs": [],
   "source": [
    "# Activation function\n",
    "\n",
    "def sigmoid(x):\n",
    "    return 1 / (1 + np.exp(-x))"
   ]
  },
  {
   "cell_type": "code",
   "execution_count": 8,
   "id": "e8519145",
   "metadata": {},
   "outputs": [],
   "source": [
    "# Feed forward function\n",
    "\n",
    "def f_forward(x, w1, w2):\n",
    "    z1 = x.dot(w1)\n",
    "    a1 = sigmoid(z1)\n",
    "    \n",
    "    #output layer\n",
    "    \n",
    "    z2 = a1.dot(w2)\n",
    "    a2 = sigmoid(z2)\n",
    "    return a2\n"
   ]
  },
  {
   "cell_type": "code",
   "execution_count": 9,
   "id": "708673a1",
   "metadata": {},
   "outputs": [],
   "source": [
    "# Initialize the weights\n",
    "\n",
    "def generate_wt(x, y):\n",
    "    l = []\n",
    "    for i in range(x * y):\n",
    "        l.append(np.random.randn())\n",
    "    return np.array(l).reshape(x, y)"
   ]
  },
  {
   "cell_type": "code",
   "execution_count": 10,
   "id": "4b9d59b2",
   "metadata": {},
   "outputs": [],
   "source": [
    "# Loss function\n",
    "\n",
    "def loss(out, Y):\n",
    "    s = (np.square(out - Y))\n",
    "    S = np.sum(s) / len(Y)\n",
    "    return S\n"
   ]
  },
  {
   "cell_type": "code",
   "execution_count": 11,
   "id": "ea2a8a4a",
   "metadata": {},
   "outputs": [],
   "source": [
    "# Backpropagation\n",
    "\n",
    "def back_prop(x, y, w1, w2, alpha):\n",
    "    \n",
    "    #hidden\n",
    "    z1 = x.dot(w1)\n",
    "    a1 = sigmoid(z1)\n",
    "    \n",
    "    #output layer\n",
    "    z2 = a1.dot(w2)\n",
    "    a2 = sigmoid(z2)\n",
    "\n",
    "    d2 = (a2 - y)\n",
    "    d1 = np.multiply((w2.dot(d2.transpose())).transpose(), (np.multiply(a1, 1 - a1)))\n",
    "    \n",
    "    #gradient\n",
    "    w1_adj = x.transpose().dot(d1)\n",
    "    w2_adj = a1.transpose().dot(d2)\n",
    "\n",
    "    w1 = w1 - (alpha * w1_adj)\n",
    "    w2 = w2 - (alpha * w2_adj)\n",
    "\n",
    "    return w1, w2"
   ]
  },
  {
   "cell_type": "code",
   "execution_count": 12,
   "id": "30ba445d",
   "metadata": {},
   "outputs": [],
   "source": [
    "def train(x, Y, w1, w2, alpha=0.01, epoch=10):\n",
    "    acc = []\n",
    "    loss_list = []\n",
    "    for j in range(epoch):\n",
    "        l = []\n",
    "        for i in range(len(x)):\n",
    "            out = f_forward(x[i], w1, w2)\n",
    "            l.append(loss(out, Y[i]))\n",
    "            w1, w2 = back_prop(x[i], Y[i], w1, w2, alpha)\n",
    "        print(\"Epochs:\", j + 1, \"acc:\", (1 - (sum(l) / len(x))) * 100)\n",
    "        acc.append((1 - (sum(l) / len(x))) * 100)\n",
    "        loss_list.append(sum(l) / len(x))\n",
    "    return acc, loss_list, w1, w2\n"
   ]
  },
  {
   "cell_type": "code",
   "execution_count": 13,
   "id": "1c974975",
   "metadata": {},
   "outputs": [],
   "source": [
    "# Prediction function\n",
    "\n",
    "def predict(x, w1, w2):\n",
    "    out = f_forward(x, w1, w2)\n",
    "    maxm = 0\n",
    "    k = 0\n",
    "    for i in range(len(out[0])):\n",
    "        if maxm < out[0][i]:\n",
    "            maxm = out[0][i]\n",
    "            k = i\n",
    "    if k == 0:\n",
    "        print(\"Image is of letter A\")\n",
    "    elif k == 1:\n",
    "        print(\"Image is of letter B\")\n",
    "    else:\n",
    "        print(\"Image is of letter C\")\n",
    "    plt.imshow(x.reshape(5, 6))\n",
    "    plt.show()"
   ]
  },
  {
   "cell_type": "code",
   "execution_count": 14,
   "id": "dbf191a0",
   "metadata": {},
   "outputs": [
    {
     "name": "stdout",
     "output_type": "stream",
     "text": [
      "[[-0.55805011  0.34448948 -0.43598347 -0.05873826  2.10860174]\n",
      " [ 0.3699681   0.61858179  1.44957443 -1.7340415   0.47187413]\n",
      " [-0.06175278  0.96473147 -1.02427366  0.41531979  0.03743507]\n",
      " [-0.42163571  0.95462243  1.52117354 -0.47417062  1.38622315]\n",
      " [ 0.83798751 -0.13129604 -0.76014852 -1.66223371 -0.78226707]\n",
      " [ 1.18183399  0.99914685  0.43224685  0.56138211  1.05962227]\n",
      " [ 1.01236098  2.29318948  0.87982722  0.16952471 -1.25941371]\n",
      " [-0.63631834  0.83371652  0.33892317  0.7278869  -2.30056844]\n",
      " [ 0.28877495  1.93807174 -0.71451018 -0.55214703  0.81812478]\n",
      " [ 0.75663493  0.04395708 -0.99864812 -0.34230629  1.37972919]\n",
      " [ 0.4484086  -2.20520261  1.45016695  1.64312685 -0.23253728]\n",
      " [-0.83317284  0.4955211  -0.21565905  0.15486879  1.03468366]\n",
      " [ 0.7344943   0.02432451  0.40335116  1.39038336  0.31352667]\n",
      " [-1.25847405 -2.92117072 -0.84395979 -0.07813322  0.10701489]\n",
      " [-1.31763875 -0.0679499   1.10612732 -0.98539789 -0.16878581]\n",
      " [ 0.47525277 -0.0630128  -2.41240933  0.70958248  2.44449753]\n",
      " [ 0.31946962 -1.10215469 -0.0553878   1.61379874 -0.34506252]\n",
      " [ 0.21824854 -0.5091655  -0.55090438 -0.3985101  -2.32726656]\n",
      " [-0.12485742 -0.2082737   1.87769649  0.057706   -0.08616542]\n",
      " [-1.04047522 -0.56621872  0.09483969  0.05259618  0.87613788]\n",
      " [ 0.43579081 -1.20151184  0.54624187 -1.24260329  0.79182035]\n",
      " [ 0.11407895  1.22807865 -0.55591804  1.43318102  0.16026969]\n",
      " [ 1.08891336  0.40605654  0.37614855  0.44633506  1.54130332]\n",
      " [ 0.1328997  -0.30948225 -0.21612713 -0.31961302 -0.38190102]\n",
      " [ 0.4097914   0.18187562  2.1235653   0.64986878 -0.39446798]\n",
      " [-0.4624119   0.01537651 -0.09455221  0.16818928 -0.52351339]\n",
      " [ 1.47498547 -0.35251623 -0.84477164  0.43323241 -1.26371731]\n",
      " [ 0.28215665 -0.53572093 -0.11986117 -0.25304825  0.57410284]\n",
      " [ 1.11322685  1.14660673  1.60510013  0.18063225  2.15249205]\n",
      " [-0.83587647  1.79195168  0.63009224  0.0321034   0.47547636]] \n",
      " [[ 1.77630879  0.16018452 -0.53425356]\n",
      " [-0.2889722   0.88741696  0.62335947]\n",
      " [-0.90195975  0.59202066  1.80325551]\n",
      " [-1.38006355  0.64034913 -1.1765813 ]\n",
      " [ 0.29040506  1.14593632  1.27637287]]\n"
     ]
    }
   ],
   "source": [
    "w1 = generate_wt(30, 5)\n",
    "w2 = generate_wt(5, 3)\n",
    "print(w1, \"\\n\", w2)"
   ]
  },
  {
   "cell_type": "code",
   "execution_count": 15,
   "id": "f72d28d1",
   "metadata": {},
   "outputs": [
    {
     "name": "stdout",
     "output_type": "stream",
     "text": [
      "Epochs: 1 acc: 57.10492143351835\n",
      "Epochs: 2 acc: 62.502386921399335\n",
      "Epochs: 3 acc: 66.76215691131829\n",
      "Epochs: 4 acc: 70.13498554848437\n",
      "Epochs: 5 acc: 72.84871442439614\n",
      "Epochs: 6 acc: 75.10273228673627\n",
      "Epochs: 7 acc: 77.05770727986716\n",
      "Epochs: 8 acc: 78.81927632757878\n",
      "Epochs: 9 acc: 80.41341182098304\n",
      "Epochs: 10 acc: 81.80287645111554\n",
      "Epochs: 11 acc: 82.96456997170291\n",
      "Epochs: 12 acc: 83.92584632326523\n",
      "Epochs: 13 acc: 84.73473110845904\n",
      "Epochs: 14 acc: 85.4332711459804\n",
      "Epochs: 15 acc: 86.0516272043952\n",
      "Epochs: 16 acc: 86.61022592843703\n",
      "Epochs: 17 acc: 87.12282301797987\n",
      "Epochs: 18 acc: 87.59882590333895\n",
      "Epochs: 19 acc: 88.04483485681193\n",
      "Epochs: 20 acc: 88.46562487912473\n",
      "Epochs: 21 acc: 88.86476474202176\n",
      "Epochs: 22 acc: 89.24500862564575\n",
      "Epochs: 23 acc: 89.60854652763169\n",
      "Epochs: 24 acc: 89.95716629155045\n",
      "Epochs: 25 acc: 90.29235932098926\n",
      "Epochs: 26 acc: 90.61538968368814\n",
      "Epochs: 27 acc: 90.92733908573786\n",
      "Epochs: 28 acc: 91.22913593412103\n",
      "Epochs: 29 acc: 91.52157411940497\n",
      "Epochs: 30 acc: 91.80532551873713\n",
      "Epochs: 31 acc: 92.08094913810136\n",
      "Epochs: 32 acc: 92.34889904322698\n",
      "Epochs: 33 acc: 92.60953262191886\n",
      "Epochs: 34 acc: 92.86312018642934\n",
      "Epochs: 35 acc: 93.10985641862133\n",
      "Epochs: 36 acc: 93.34987367872438\n",
      "Epochs: 37 acc: 93.58325676695323\n",
      "Epochs: 38 acc: 93.8100583890893\n",
      "Epochs: 39 acc: 94.0303143736539\n",
      "Epochs: 40 acc: 94.24405764244578\n",
      "Epochs: 41 acc: 94.45133004248513\n",
      "Epochs: 42 acc: 94.65219137201547\n",
      "Epochs: 43 acc: 94.84672522359557\n",
      "Epochs: 44 acc: 95.03504156673647\n",
      "Epochs: 45 acc: 95.21727625424006\n",
      "Epochs: 46 acc: 95.39358783273335\n",
      "Epochs: 47 acc: 95.56415216277422\n",
      "Epochs: 48 acc: 95.72915541929441\n",
      "Epochs: 49 acc: 95.88878607181071\n",
      "Epochs: 50 acc: 96.04322646062458\n",
      "Epochs: 51 acc: 96.19264460841127\n",
      "Epochs: 52 acc: 96.33718694033503\n",
      "Epochs: 53 acc: 96.4769726149736\n",
      "Epochs: 54 acc: 96.61209015772933\n",
      "Epochs: 55 acc: 96.74259698967121\n",
      "Epochs: 56 acc: 96.8685222130741\n",
      "Epochs: 57 acc: 96.98987263420096\n",
      "Epochs: 58 acc: 97.1066415117543\n",
      "Epochs: 59 acc: 97.21881901671199\n",
      "Epochs: 60 acc: 97.32640301917466\n",
      "Epochs: 61 acc: 97.42940871372794\n",
      "Epochs: 62 acc: 97.5278758171934\n",
      "Epochs: 63 acc: 97.6218725712462\n",
      "Epochs: 64 acc: 97.71149641016295\n",
      "Epochs: 65 acc: 97.7968717291212\n",
      "Epochs: 66 acc: 97.87814556942458\n",
      "Epochs: 67 acc: 97.95548216937671\n",
      "Epochs: 68 acc: 98.02905724598084\n",
      "Epochs: 69 acc: 98.09905265735127\n",
      "Epochs: 70 acc: 98.16565183997432\n",
      "Epochs: 71 acc: 98.22903618641126\n",
      "Epochs: 72 acc: 98.28938236159324\n",
      "Epochs: 73 acc: 98.3468604550219\n",
      "Epochs: 74 acc: 98.40163282068802\n",
      "Epochs: 75 acc: 98.45385344910828\n",
      "Epochs: 76 acc: 98.50366773029032\n",
      "Epochs: 77 acc: 98.55121249041922\n",
      "Epochs: 78 acc: 98.59661621082624\n",
      "Epochs: 79 acc: 98.63999936119004\n",
      "Epochs: 80 acc: 98.68147479823755\n",
      "Epochs: 81 acc: 98.72114819620498\n",
      "Epochs: 82 acc: 98.75911848644806\n",
      "Epochs: 83 acc: 98.79547829157617\n",
      "Epochs: 84 acc: 98.83031434505828\n",
      "Epochs: 85 acc: 98.86370789104863\n",
      "Epochs: 86 acc: 98.89573506171536\n",
      "Epochs: 87 acc: 98.92646723100881\n",
      "Epochs: 88 acc: 98.95597134485745\n",
      "Epochs: 89 acc: 98.98431022842561\n",
      "Epochs: 90 acc: 99.01154287144443\n",
      "Epochs: 91 acc: 99.03772469282917\n",
      "Epochs: 92 acc: 99.06290778588492\n",
      "Epochs: 93 acc: 99.0871411454196\n",
      "Epochs: 94 acc: 99.11047087805713\n",
      "Epochs: 95 acc: 99.13294039699069\n",
      "Epochs: 96 acc: 99.15459060235011\n",
      "Epochs: 97 acc: 99.17546004828334\n",
      "Epochs: 98 acc: 99.19558509777727\n",
      "Epochs: 99 acc: 99.2150000661687\n",
      "Epochs: 100 acc: 99.23373735422417\n"
     ]
    }
   ],
   "source": [
    "acc, loss_list, w1, w2 = train(x, y, w1, w2, 0.1, 100)"
   ]
  },
  {
   "cell_type": "code",
   "execution_count": 16,
   "id": "fbd4082e",
   "metadata": {},
   "outputs": [],
   "source": [
    "import numpy as np \n",
    "import matplotlib.pyplot as plt1 "
   ]
  },
  {
   "cell_type": "code",
   "execution_count": 17,
   "id": "2a585d52",
   "metadata": {
    "scrolled": false
   },
   "outputs": [
    {
     "data": {
      "image/png": "[encoded data removed]",
      "text/plain": [
       "<Figure size 640x480 with 1 Axes>"
      ]
     },
     "metadata": {},
     "output_type": "display_data"
    }
   ],
   "source": [
    "# Plotting accuracy\n",
    "plt1.plot(acc)\n",
    "plt.ylabel('Accuracy')\n",
    "plt.xlabel(\"Epochs:\")\n",
    "plt.show()\n"
   ]
  },
  {
   "cell_type": "code",
   "execution_count": 18,
   "id": "f00e0bb3",
   "metadata": {},
   "outputs": [
    {
     "data": {
      "image/png": "[encoded data removed]",
      "text/plain": [
       "<Figure size 640x480 with 1 Axes>"
      ]
     },
     "metadata": {},
     "output_type": "display_data"
    }
   ],
   "source": [
    "# Plot loss\n",
    "plt1.plot(loss_list)\n",
    "plt.ylabel('Loss')\n",
    "plt.xlabel(\"Epochs\")\n",
    "plt.show()\n"
   ]
  },
  {
   "cell_type": "code",
   "execution_count": 19,
   "id": "1e239527",
   "metadata": {},
   "outputs": [
    {
     "name": "stdout",
     "output_type": "stream",
     "text": [
      "[[-0.55805011  0.34448948 -0.43598347 -0.05873826  2.10860174]\n",
      " [-0.37334108  0.89778115  1.50044131 -1.77645402  0.35929954]\n",
      " [-0.08828859  1.12985547 -0.98316475  0.36887744 -0.30823037]\n",
      " [-0.44817152  1.11974643  1.56228246 -0.52061296  1.0405577 ]\n",
      " [ 0.09467833  0.14790332 -0.70928164 -1.70464623 -0.89484165]\n",
      " [ 1.18183399  0.99914685  0.43224685  0.56138211  1.05962227]\n",
      " [ 1.01236098  2.29318948  0.87982722  0.16952471 -1.25941371]\n",
      " [-0.66285415  0.99884051  0.38003209  0.68144456 -2.64623388]\n",
      " [ 0.28877495  1.93807174 -0.71451018 -0.55214703  0.81812478]\n",
      " [ 0.75663493  0.04395708 -0.99864812 -0.34230629  1.37972919]\n",
      " [ 0.77024296 -2.39077181  0.77782582  2.05734212 -0.07404769]\n",
      " [-0.83317284  0.4955211  -0.21565905  0.15486879  1.03468366]\n",
      " [ 1.45126767 -0.08975085  0.3935932   1.38635353  0.08043582]\n",
      " [-1.28500986 -2.75604673 -0.80285087 -0.12457557 -0.23865055]\n",
      " [-0.99580439 -0.2535191   0.4337862  -0.57118262 -0.01029622]\n",
      " [ 0.79708713 -0.248582   -3.08475046  1.12379775  2.60298712]\n",
      " [ 0.64130399 -1.28772389 -0.72772892  2.02801401 -0.18657293]\n",
      " [ 0.93502191 -0.62324087 -0.56066234 -0.40253993 -2.56035742]\n",
      " [ 0.59191595 -0.32234906  1.86793853  0.05367618 -0.31925628]\n",
      " [-1.7837844  -0.28701936  0.14570657  0.01018366  0.76356329]\n",
      " [ 0.43579081 -1.20151184  0.54624187 -1.24260329  0.79182035]\n",
      " [ 0.11407895  1.22807865 -0.55591804  1.43318102  0.16026969]\n",
      " [ 0.69397435  0.33456271 -0.28643461  0.86458016  1.93288376]\n",
      " [ 0.84967307 -0.42355762 -0.22588509 -0.32364285 -0.61499188]\n",
      " [ 1.12656476  0.06780025  2.11380734  0.64583895 -0.62755884]\n",
      " [-1.20572108  0.29457587 -0.04368533  0.12577676 -0.63608798]\n",
      " [ 0.73167629 -0.07331687 -0.79390476  0.3908199  -1.37629189]\n",
      " [-0.46115253 -0.25652157 -0.06899429 -0.29546077  0.46152825]\n",
      " [ 0.36991767  1.42580608  1.65596701  0.13821973  2.03991746]\n",
      " [-0.1191031   1.67787632  0.62033428  0.02807357  0.2423855 ]] \n",
      " [[ 3.3158036  -1.12634101 -1.56487836]\n",
      " [-1.45767673 -0.81254598  1.61617481]\n",
      " [-0.86889132 -2.26239816  1.19933676]\n",
      " [-0.2441062   0.50281983 -3.49703404]\n",
      " [-1.76362151  2.57751985  0.00957504]]\n"
     ]
    }
   ],
   "source": [
    "print(w1, \"\\n\", w2)"
   ]
  },
  {
   "cell_type": "code",
   "execution_count": 20,
   "id": "fcc5d1a4",
   "metadata": {
    "scrolled": false
   },
   "outputs": [
    {
     "name": "stdout",
     "output_type": "stream",
     "text": [
      "Image is of letter A\n"
     ]
    },
    {
     "data": {
      "image/png": "[encoded data removed]",
      "text/plain": [
       "<Figure size 640x480 with 1 Axes>"
      ]
     },
     "metadata": {},
     "output_type": "display_data"
    }
   ],
   "source": [
    "predict(x[0], w1, w2)"
   ]
  },
  {
   "cell_type": "code",
   "execution_count": 21,
   "id": "6c696b30",
   "metadata": {},
   "outputs": [
    {
     "name": "stdout",
     "output_type": "stream",
     "text": [
      "Image is of letter B\n"
     ]
    },
    {
     "data": {
      "image/png": "[encoded data removed]",
      "text/plain": [
       "<Figure size 640x480 with 1 Axes>"
      ]
     },
     "metadata": {},
     "output_type": "display_data"
    }
   ],
   "source": [
    "predict(x[1], w1, w2)"
   ]
  },
  {
   "cell_type": "code",
   "execution_count": 22,
   "id": "d241b76a",
   "metadata": {},
   "outputs": [
    {
     "name": "stdout",
     "output_type": "stream",
     "text": [
      "Image is of letter C\n"
     ]
    },
    {
     "data": {
      "image/png": "[encoded data removed]",
      "text/plain": [
       "<Figure size 640x480 with 1 Axes>"
      ]
     },
     "metadata": {},
     "output_type": "display_data"
    }
   ],
   "source": [
    "predict(x[2], w1, w2)"
   ]
  },
  {
   "cell_type": "code",
   "execution_count": null,
   "id": "8caaedcd",
   "metadata": {},
   "outputs": [],
   "source": []
  },
  {
   "cell_type": "code",
   "execution_count": null,
   "id": "32f866cf",
   "metadata": {},
   "outputs": [],
   "source": []
  }
 ],
 "metadata": {
  "kernelspec": {
   "display_name": "Python 3 (ipykernel)",
   "language": "python",
   "name": "python3"
  },
  "language_info": {
   "codemirror_mode": {
    "name": "ipython",
    "version": 3
   },
   "file_extension": ".py",
   "mimetype": "text/x-python",
   "name": "python",
   "nbconvert_exporter": "python",
   "pygments_lexer": "ipython3",
   "version": "3.10.9"
  }
 },
 "nbformat": 4,
 "nbformat_minor": 5
}
